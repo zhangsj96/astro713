{
 "cells": [
  {
   "cell_type": "markdown",
   "metadata": {},
   "source": [
    "Ch.4 Prob 1."
   ]
  },
  {
   "cell_type": "markdown",
   "metadata": {},
   "source": [
    "a.\n",
    "\n",
    "$n_e = \\frac{8\\pi}{3h^3}p^3$\n",
    "\n",
    "$p_F = (\\frac{3h^3 n_e}{8\\pi})^{1/3}$\n",
    "\n",
    "$E_F=p_F^2/2m_e = \\frac{1}{2m_e}(\\frac{3h^3 n_e}{8\\pi})^{2/3} $\n",
    "\n",
    "b. In a typical white dwarf, $\\rho \\sim 10^6 g/cm^3$\n",
    "\n",
    "n_e = 2$\\rho/4m_H$ = $\\rho/(2 m_H)$"
   ]
  },
  {
   "cell_type": "code",
   "execution_count": 3,
   "metadata": {},
   "outputs": [
    {
     "name": "stdout",
     "output_type": "stream",
     "text": [
      "n_e = 2.94e+29 /cm^3\n"
     ]
    }
   ],
   "source": [
    "n_e = 1e6 / (2. * 1.7e-24)\n",
    "print \"n_e = {:1.2e} /cm^3\".format(n_e)"
   ]
  },
  {
   "cell_type": "code",
   "execution_count": 4,
   "metadata": {
    "collapsed": true
   },
   "outputs": [],
   "source": [
    "m_e = 9.1095e-28\n",
    "h   = 6.6262e-27\n",
    "E_F = 1./(2.*m_e) * (3*h**3*n_e/(8.*3.14))**(2./3.)"
   ]
  },
  {
   "cell_type": "code",
   "execution_count": 6,
   "metadata": {},
   "outputs": [
    {
     "name": "stdout",
     "output_type": "stream",
     "text": [
      "E_F = 2.58e-07 erg\n"
     ]
    }
   ],
   "source": [
    "print \"E_F = {:1.2e} erg\".format(E_F)"
   ]
  },
  {
   "cell_type": "code",
   "execution_count": 8,
   "metadata": {
    "collapsed": true
   },
   "outputs": [],
   "source": [
    "T = 1e7 # K\n",
    "k = 1.3807e-16"
   ]
  },
  {
   "cell_type": "code",
   "execution_count": 11,
   "metadata": {},
   "outputs": [
    {
     "name": "stdout",
     "output_type": "stream",
     "text": [
      "E_th = 2.07e-09 erg\n"
     ]
    }
   ],
   "source": [
    "E_th = 3./2.*k*T\n",
    "print \"E_th = {:1.2e} erg\".format(E_th)"
   ]
  },
  {
   "cell_type": "code",
   "execution_count": 15,
   "metadata": {},
   "outputs": [
    {
     "data": {
      "text/plain": [
       "'E_th/E_F = 8.0e-03 << 1'"
      ]
     },
     "execution_count": 15,
     "metadata": {},
     "output_type": "execute_result"
    }
   ],
   "source": [
    "\"E_th/E_F = {:1.1e} << 1\".format(E_th/E_F)"
   ]
  },
  {
   "cell_type": "markdown",
   "metadata": {},
   "source": [
    "So the electron inside WD is indeed degenerate."
   ]
  },
  {
   "cell_type": "markdown",
   "metadata": {},
   "source": [
    "4. a.\n",
    "\n",
    "P = $-\\frac{1}{3} E_{gr}/V = \\alpha \\frac{GM^2}{R} \\frac{1}{(4\\pi/3) R^3}$ = $\\alpha \\frac{G}{(4\\pi/3)} \\frac{M^2}{ R^4}$"
   ]
  },
  {
   "cell_type": "markdown",
   "metadata": {},
   "source": [
    "b. $c_s = \\sqrt{dP/d\\rho} \\sim \\sqrt{P/\\rho}$ =  $\\sqrt{GM^2/R^4\\ M/R^3} \\sim (GM/R)^{1/2}$  "
   ]
  },
  {
   "cell_type": "code",
   "execution_count": 22,
   "metadata": {},
   "outputs": [
    {
     "name": "stdout",
     "output_type": "stream",
     "text": [
      "C_s = 4.31e+08 cm/s\n"
     ]
    }
   ],
   "source": [
    "Msun = 1.989e33\n",
    "R = 1e4 * 1e5\n",
    "M = 1.4 * Msun\n",
    "G = 6.67428e-8\n",
    "Cs = (G*M/R)**0.5 \n",
    "print (\"C_s = {:1.2e} cm/s\".format(Cs))"
   ]
  },
  {
   "cell_type": "code",
   "execution_count": 25,
   "metadata": {},
   "outputs": [
    {
     "name": "stdout",
     "output_type": "stream",
     "text": [
      "tau ~ R/Cs = 2.3 s\n"
     ]
    }
   ],
   "source": [
    "print (\"tau ~ R/Cs = {:1.1f} s\".format(R/Cs))"
   ]
  },
  {
   "cell_type": "markdown",
   "metadata": {},
   "source": [
    "c. "
   ]
  },
  {
   "cell_type": "code",
   "execution_count": 28,
   "metadata": {},
   "outputs": [],
   "source": [
    "c = 3.e10 #cm/s\n",
    "Eexp = 0.001 * Msun * c**2\n",
    "Egr = G*M**2 / R"
   ]
  },
  {
   "cell_type": "markdown",
   "metadata": {},
   "source": [
    "$E_{gr} \\sim GM^2/R$"
   ]
  },
  {
   "cell_type": "code",
   "execution_count": 31,
   "metadata": {},
   "outputs": [
    {
     "name": "stdout",
     "output_type": "stream",
     "text": [
      "The explosion energy 1.8e+51 erg is enough to tear the whole WD apart with gravitiional binding energy 5.2e+50 erg\n"
     ]
    }
   ],
   "source": [
    "print (\"The explosion energy {:1.1e} erg is enough to tear the whole WD apart with gravitiional \\\n",
    "binding energy {:1.1e} erg\".format(Eexp, Egr))"
   ]
  },
  {
   "cell_type": "markdown",
   "metadata": {},
   "source": [
    "d. "
   ]
  },
  {
   "cell_type": "code",
   "execution_count": 38,
   "metadata": {},
   "outputs": [
    {
     "name": "stdout",
     "output_type": "stream",
     "text": [
      "E_tot = 3.22e+50 erg\n",
      "L = 2.16e+10 / Lsun\n"
     ]
    }
   ],
   "source": [
    "E_tot = (55.942135-55.934941) / (55.934941) * M * c**2\n",
    "print (\"E_tot = {:1.2e} erg\".format(E_tot))\n",
    "t = (8.8 + 111) * 24. * 2600\n",
    "Lsun = 2e33\n",
    "L = E_tot / t\n",
    "print (\"L = {:1.2e} / Lsun\".format(L/Lsun))"
   ]
  },
  {
   "cell_type": "markdown",
   "metadata": {},
   "source": [
    "e.\n",
    "\n",
    "t = $R^2/(lc)$ ; $l = (\\kappa\\rho)^{-1}$\n",
    "\n",
    "t = $R^2 \\kappa\\rho/c$ = $R^2\\kappa M/(\\frac{4}{3}\\pi R^3)/c = 3\\kappa M/(4\\pi Rc) = 3\\kappa M/(4\\pi vtc)$\n"
   ]
  },
  {
   "cell_type": "markdown",
   "metadata": {},
   "source": [
    "$t = (\\frac{3\\kappa M}{4\\pi vc})^{1/2}$"
   ]
  },
  {
   "cell_type": "code",
   "execution_count": 47,
   "metadata": {
    "collapsed": true
   },
   "outputs": [],
   "source": [
    "v = 1e4 * 1e5\n",
    "kappa = 0.3 # cgs\n",
    "t = (3.* kappa * M / (4.*3.14*v*c))**0.5"
   ]
  },
  {
   "cell_type": "code",
   "execution_count": 51,
   "metadata": {},
   "outputs": [
    {
     "name": "stdout",
     "output_type": "stream",
     "text": [
      "the diffusion time is 29.8 days\n"
     ]
    }
   ],
   "source": [
    "print (\"the diffusion time is {:1.1f} days\".format(t / 3600. /24.)) # if v=3e4 km/s, t ~ 17 days"
   ]
  }
 ],
 "metadata": {
  "kernelspec": {
   "display_name": "Python 2",
   "language": "python",
   "name": "python2"
  },
  "language_info": {
   "codemirror_mode": {
    "name": "ipython",
    "version": 2
   },
   "file_extension": ".py",
   "mimetype": "text/x-python",
   "name": "python",
   "nbconvert_exporter": "python",
   "pygments_lexer": "ipython2",
   "version": "2.7.13"
  }
 },
 "nbformat": 4,
 "nbformat_minor": 2
}
