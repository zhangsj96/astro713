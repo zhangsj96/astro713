{
 "cells": [
  {
   "cell_type": "code",
   "execution_count": 1,
   "metadata": {
    "collapsed": true
   },
   "outputs": [],
   "source": [
    "import numpy as np"
   ]
  },
  {
   "cell_type": "markdown",
   "metadata": {},
   "source": [
    "Ch6. 1.a"
   ]
  },
  {
   "cell_type": "code",
   "execution_count": 4,
   "metadata": {
    "collapsed": true
   },
   "outputs": [],
   "source": [
    "#          *     *     *\n",
    "#            *   *   *\n",
    "#              * * * ) i, inclination\n",
    "#   **********   s     **************** line of sight\n",
    "#                | * )90 - i\n",
    "#               br*  a \n",
    "#                |     p orbital plane"
   ]
  },
  {
   "cell_type": "markdown",
   "metadata": {},
   "source": [
    "so $b \\times r_* = a\\ cosi$\n",
    "thus $cosi = br_*/a$"
   ]
  },
  {
   "cell_type": "code",
   "execution_count": 5,
   "metadata": {
    "collapsed": true
   },
   "outputs": [],
   "source": [
    "#        \n",
    "#     *  *  *\n",
    "#   *2b*sqrt(1-b^2)*\n",
    "#  *     b     *\n",
    "#  *     *      *\n",
    "#   *          *\n",
    "#     *      *\n",
    "#       * *   "
   ]
  },
  {
   "cell_type": "markdown",
   "metadata": {},
   "source": [
    "$t_{dur} = 2\\sqrt{1-b^2}/v$\n",
    "\n",
    "$\\tau = 2\\pi a/v$\n",
    "\n",
    "$t_{dur} = \\frac{r_*\\tau}{\\pi\\ a}\\sqrt{1-b^2}$"
   ]
  },
  {
   "cell_type": "code",
   "execution_count": 6,
   "metadata": {
    "collapsed": true
   },
   "outputs": [],
   "source": [
    "#                                ''\n",
    "#                               ' rp'\n",
    "#                                ''\n",
    "#         . -- ~~~ -- .           \n",
    "#    .-~               ~-. \n",
    "#   /                  /   \\\n",
    "#  /             r_*/       \\\n",
    "# |              /          |\n",
    "# |           star          |\n",
    "# |                         |\n",
    "#  \\                       /\n",
    "#   \\                     /\n",
    "#    `-.               .-'\n",
    "#        ~- . ___ . -~"
   ]
  },
  {
   "cell_type": "markdown",
   "metadata": {},
   "source": [
    "The maixmum angle that a transit can happen is $(r_* + r_p) / a$"
   ]
  },
  {
   "cell_type": "markdown",
   "metadata": {},
   "source": [
    "thus $P = \\int_{0}^{2\\pi} (r_* + r_p) / \\a sin(\\theta)d\\theta / 4\\pi = (r_* + r_p) / \\a$\n"
   ]
  },
  {
   "cell_type": "markdown",
   "metadata": {},
   "source": [
    "c. "
   ]
  },
  {
   "cell_type": "markdown",
   "metadata": {},
   "source": [
    "c. $M_1 = 0.91 M_\\odot, r_* = 0.92 r_\\odot, T_E = 5700 K$\n",
    "\n",
    "Period = 4.8 days; t_dur = 0.04 Period, delta = 0.00025\n",
    "\n",
    "find $a$, $r_p$, and orbital inclination $i$\n",
    "\n"
   ]
  },
  {
   "cell_type": "markdown",
   "metadata": {},
   "source": [
    "$a^3/T^2 = M$"
   ]
  },
  {
   "cell_type": "code",
   "execution_count": 8,
   "metadata": {},
   "outputs": [
    {
     "data": {
      "text/plain": [
       "0.05396626972098953"
      ]
     },
     "execution_count": 8,
     "metadata": {},
     "output_type": "execute_result"
    }
   ],
   "source": [
    "((4.8/365.24)**2 * 0.91)**(1./3.)"
   ]
  },
  {
   "cell_type": "markdown",
   "metadata": {},
   "source": [
    "So the semi-major axis $a$ = 0.05 au"
   ]
  },
  {
   "cell_type": "markdown",
   "metadata": {},
   "source": [
    "$R_p^2 / R_*^2 = \\delta$"
   ]
  },
  {
   "cell_type": "code",
   "execution_count": 11,
   "metadata": {},
   "outputs": [
    {
     "data": {
      "text/plain": [
       "1.5855660188084253"
      ]
     },
     "execution_count": 11,
     "metadata": {},
     "output_type": "execute_result"
    }
   ],
   "source": [
    "0.92 * (0.00025)**0.5 * 109"
   ]
  },
  {
   "cell_type": "markdown",
   "metadata": {},
   "source": [
    "$R_p = 1.6 r_\\oplus$"
   ]
  },
  {
   "cell_type": "markdown",
   "metadata": {},
   "source": [
    "Using the equation derived above, $b = \\sqrt{1-\\frac{t_{dur}\\pi\\ a}{r_*\\tau}}$"
   ]
  },
  {
   "cell_type": "code",
   "execution_count": 13,
   "metadata": {},
   "outputs": [
    {
     "data": {
      "text/plain": [
       "-0.3659098493868669"
      ]
     },
     "execution_count": 13,
     "metadata": {},
     "output_type": "execute_result"
    }
   ],
   "source": [
    "1.-(0.04*np.pi*0.05)/(0.92/200.)"
   ]
  },
  {
   "cell_type": "code",
   "execution_count": 25,
   "metadata": {},
   "outputs": [],
   "source": [
    "b = np.sqrt(1.-(0.025*np.pi*0.05)/(0.92/200.))"
   ]
  },
  {
   "cell_type": "code",
   "execution_count": 26,
   "metadata": {},
   "outputs": [
    {
     "data": {
      "text/plain": [
       "88.005273585273656"
      ]
     },
     "execution_count": 26,
     "metadata": {},
     "output_type": "execute_result"
    }
   ],
   "source": [
    "np.arccos(b * 0.91/200. / 0.05) * (180./np.pi)"
   ]
  },
  {
   "cell_type": "markdown",
   "metadata": {},
   "source": [
    "inclination is 88 degree"
   ]
  },
  {
   "cell_type": "markdown",
   "metadata": {},
   "source": [
    "since $M_p\\ sini = (\\frac{\\tau}{2\\pi G})^{1/3}|v_1,obs|M_1^{2/3}$"
   ]
  },
  {
   "cell_type": "code",
   "execution_count": 27,
   "metadata": {
    "collapsed": true
   },
   "outputs": [],
   "source": [
    "from scipy.constants.constants import G"
   ]
  },
  {
   "cell_type": "code",
   "execution_count": 42,
   "metadata": {},
   "outputs": [],
   "source": [
    "Mp = 1./np.sin(88./(180./np.pi)) * (4.8*24*3600/(2.*np.pi*G))**(1./3.)*1.6 * (0.91*1.989e30)**(2./3.) "
   ]
  },
  {
   "cell_type": "code",
   "execution_count": 43,
   "metadata": {},
   "outputs": [
    {
     "data": {
      "text/plain": [
       "3.9668292731816868"
      ]
     },
     "execution_count": 43,
     "metadata": {},
     "output_type": "execute_result"
    }
   ],
   "source": [
    "Mp / 5.972e24"
   ]
  },
  {
   "cell_type": "markdown",
   "metadata": {},
   "source": [
    "so the mass of the planet is ~ 4 $M_{\\oplus}$"
   ]
  },
  {
   "cell_type": "code",
   "execution_count": 44,
   "metadata": {
    "collapsed": true
   },
   "outputs": [],
   "source": [
    "r = 1.5 * 6378e3\n",
    "rho = Mp/(4./3.*np.pi*r**3)"
   ]
  },
  {
   "cell_type": "code",
   "execution_count": 46,
   "metadata": {},
   "outputs": [
    {
     "data": {
      "text/plain": [
       "6.4587336819810321"
      ]
     },
     "execution_count": 46,
     "metadata": {},
     "output_type": "execute_result"
    }
   ],
   "source": [
    "rho / 1e3"
   ]
  },
  {
   "cell_type": "markdown",
   "metadata": {},
   "source": [
    "The density is ~ 6.5 $cm^{-3}$"
   ]
  },
  {
   "cell_type": "markdown",
   "metadata": {},
   "source": [
    "$4\\pi r_*^2\\sigma T_*^4 / (4\\pi a^2) (1-A)\\pi R_p^2 = 4\\pi R_p^2\\sigma T_p^4$"
   ]
  },
  {
   "cell_type": "markdown",
   "metadata": {},
   "source": [
    "$T_p = T_* ((\\frac{1-A}{4})^{1/4}(r_*/a)^{1/2}) $"
   ]
  },
  {
   "cell_type": "code",
   "execution_count": 48,
   "metadata": {},
   "outputs": [
    {
     "data": {
      "text/plain": [
       "1112.1287398162099"
      ]
     },
     "execution_count": 48,
     "metadata": {},
     "output_type": "execute_result"
    }
   ],
   "source": [
    "5700 * (0.7/4.)**0.25 * (0.91 / (0.05*200))**0.5"
   ]
  },
  {
   "cell_type": "markdown",
   "metadata": {},
   "source": [
    "So the temperature is ~ 1000 K."
   ]
  },
  {
   "cell_type": "markdown",
   "metadata": {},
   "source": [
    "3. $\\theta_E = (\\frac{4GM}{c^2}\\frac{D_{ls}}{D_{ol}D_{os}})^{1/2}$"
   ]
  },
  {
   "cell_type": "markdown",
   "metadata": {},
   "source": [
    "if $D_{ls} = D_{ol} = d$\n",
    "\n",
    "$\\theta_E = (\\frac{4GM}{c^2}/2d)$"
   ]
  },
  {
   "cell_type": "markdown",
   "metadata": {},
   "source": [
    "let $\\theta_E = R_*/d$\n",
    "\n",
    "$d = R_*^2 \\frac{c^2}{2GM}$"
   ]
  },
  {
   "cell_type": "code",
   "execution_count": 51,
   "metadata": {},
   "outputs": [],
   "source": [
    "from scipy.constants.constants import parsec"
   ]
  },
  {
   "cell_type": "code",
   "execution_count": 52,
   "metadata": {},
   "outputs": [
    {
     "data": {
      "text/plain": [
       "0.005314226208663566"
      ]
     },
     "execution_count": 52,
     "metadata": {},
     "output_type": "execute_result"
    }
   ],
   "source": [
    "695.508e6**2 * 3e8**2/(2*G*1.989e30) / parsec"
   ]
  },
  {
   "cell_type": "markdown",
   "metadata": {},
   "source": [
    "$d$ should be larger than 0.005 parsec."
   ]
  }
 ],
 "metadata": {
  "kernelspec": {
   "display_name": "Python 2",
   "language": "python",
   "name": "python2"
  },
  "language_info": {
   "codemirror_mode": {
    "name": "ipython",
    "version": 2
   },
   "file_extension": ".py",
   "mimetype": "text/x-python",
   "name": "python",
   "nbconvert_exporter": "python",
   "pygments_lexer": "ipython2",
   "version": "2.7.13"
  }
 },
 "nbformat": 4,
 "nbformat_minor": 2
}
