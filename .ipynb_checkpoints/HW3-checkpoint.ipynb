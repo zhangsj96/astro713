{
 "cells": [
  {
   "cell_type": "markdown",
   "metadata": {},
   "source": [
    "Ch3. Problem 4."
   ]
  },
  {
   "cell_type": "markdown",
   "metadata": {},
   "source": [
    "a) $$\\frac{dP(r)}{dr} = - \\frac{GM(r)\\rho(r)}{r^2}$$ eq. HEQ"
   ]
  },
  {
   "cell_type": "markdown",
   "metadata": {},
   "source": [
    "M(r) = $(\\frac{4\\pi}{3}r^3)\\rho_0$ ; $\\rho(r)$ = $\\rho_0$\n",
    "\n",
    "dP(r)/dr = - (G$\\frac{4\\pi}{3})r\\rho_0^2$\n",
    "\n",
    "dP(r) = - (G$\\frac{4\\pi}{3})\\rho_0^2$ rdr = - (G$\\frac{2\\pi}{3})\\rho_0^2$ $dr^2$"
   ]
  },
  {
   "cell_type": "markdown",
   "metadata": {},
   "source": [
    "P(R) - P(r) = - (G$\\frac{2\\pi}{3})\\rho_0^2$ $dr^2 |_r^R$ ; P(R) = 0\n",
    "\n",
    "P(r) = (G$\\frac{2\\pi}{3})\\rho_0^2$ ($R^2 - r^2$)"
   ]
  },
  {
   "cell_type": "markdown",
   "metadata": {},
   "source": [
    "b) this star is composed of a classical, non-relativistic ideal gas of fully ionzied hydrogen\n",
    "\n",
    "$P_g = nkT = \\rho/(\\mu m_H) kT$; $\\mu$ = 0.5\n",
    "\n",
    "$P(r) = 2\\rho kT(r)/m_H$\n",
    "\n",
    "$T(r)= m_H/(2\\rho k) P(r)$ = $m_H/(2\\rho k)(G\\frac{2\\pi}{3})\\rho^2$  ($R^2 - r^2$)"
   ]
  },
  {
   "cell_type": "markdown",
   "metadata": {},
   "source": [
    "c) $\\epsilon$ ~ $T^4$. 0.1 $\\epsilon$(0) means $0.1^{1/4} T(0)$ ~ 0.56 T(0)"
   ]
  },
  {
   "cell_type": "markdown",
   "metadata": {},
   "source": [
    "T(0) = $m_H/(2\\rho k)(G\\frac{2\\pi}{3})\\rho^2$ $R^2$"
   ]
  },
  {
   "cell_type": "markdown",
   "metadata": {},
   "source": [
    "T(r) = 0.56 T(0) means\n",
    "\n",
    "$R^2 - r^2 = 0.56 R^2$\n"
   ]
  },
  {
   "cell_type": "code",
   "execution_count": 5,
   "metadata": {},
   "outputs": [
    {
     "name": "stdout",
     "output_type": "stream",
     "text": [
      "(0.6615577637739964, 0.28953649420336336)\n"
     ]
    }
   ],
   "source": [
    "r2_R2 = (1. - 0.1**0.25)\n",
    "r_R   = (r2_R2)**0.5\n",
    "print (r_R, r_R**3)"
   ]
  },
  {
   "cell_type": "markdown",
   "metadata": {},
   "source": [
    "at r ~ 0.66 R, $\\epsilon$ decreases to 0.1 of its central value and contains 0.29 of the whole volume. "
   ]
  },
  {
   "cell_type": "markdown",
   "metadata": {},
   "source": [
    "6.Fully ionized $^{12}C$ has one nucleus (, which contains 6 protons and 6 neutrons) and 6 electrons. So $\\overline m$ = $12/7$ $m_H$."
   ]
  },
  {
   "cell_type": "markdown",
   "metadata": {},
   "source": [
    "Use the classical ideal gas law, the dimensional relation between mass, density, and radius, and the virial theorem, to find the scaling of the stellar radius r¤ with total mass M , mean particle mass m ̄ , and core temperature Tc. Using the values of these parameters for the Sun, derive the radius of the star.\n",
    "Answer:"
   ]
  },
  {
   "cell_type": "markdown",
   "metadata": {},
   "source": [
    "P = $\\rho/(\\overline m)kT$ (1)\n",
    "\n",
    "M = $4/3 \\pi \\rho r^3$\n",
    "\n",
    "Virial theorem $P = -\\frac{1}{3}\\frac{E_{gr}}{V}$;$ E_{gr} \\sim -GM^2/r; P \\sim M^2/r \\times 1/r^3 \\sim M^2/r^4$"
   ]
  },
  {
   "cell_type": "markdown",
   "metadata": {},
   "source": [
    "from (1), P ~ $\\frac{\\rho T}{\\overline m}$ ~ $\\frac{M}{\\overline mT r^3}$ ~ $M^2/r^4$"
   ]
  },
  {
   "cell_type": "markdown",
   "metadata": {},
   "source": [
    "r ~ $\\frac{M\\overline m}{T}$"
   ]
  },
  {
   "cell_type": "markdown",
   "metadata": {},
   "source": [
    "$T_c$ = 6 × $10^8$ K, $T_{c,\\odot}$ = 1.5 × $10^7$ K"
   ]
  },
  {
   "cell_type": "markdown",
   "metadata": {},
   "source": [
    "$r_s / r_{\\odot}$ = $M/M_{\\odot} \\overline m / \\overline m_{\\odot}$ $T_{c,\\odot}/T_{c}$"
   ]
  },
  {
   "cell_type": "markdown",
   "metadata": {},
   "source": [
    "$\\overline m_{\\odot}$ = 0.61 $m_H$ (solar abundance)"
   ]
  },
  {
   "cell_type": "code",
   "execution_count": 16,
   "metadata": {},
   "outputs": [
    {
     "name": "stdout",
     "output_type": "stream",
     "text": [
      "r_star = 0.70 r_sun\n"
     ]
    }
   ],
   "source": [
    "r_s = 10. * (12./7.) / (0.61) * (1.5e7) / (6e8) \n",
    "print (r\"r_star = %1.2f r_sun\")%r_s"
   ]
  },
  {
   "cell_type": "markdown",
   "metadata": {},
   "source": [
    "If the sun only contains fully ionized H, then $\\overline m_{\\odot}$ = 0.5 $m_H$"
   ]
  },
  {
   "cell_type": "code",
   "execution_count": 18,
   "metadata": {},
   "outputs": [
    {
     "name": "stdout",
     "output_type": "stream",
     "text": [
      "r_star = 0.86 r_sun\n"
     ]
    }
   ],
   "source": [
    "r_s = 10. * (12./7.) / (0.5) * (1.5e7) / (6e8) \n",
    "print (r\"r_star = %1.2f r_sun\")%r_s"
   ]
  },
  {
   "cell_type": "markdown",
   "metadata": {},
   "source": [
    "c."
   ]
  },
  {
   "cell_type": "markdown",
   "metadata": {},
   "source": [
    "L = $4\\pi r^2\\sigma T^4$"
   ]
  },
  {
   "cell_type": "markdown",
   "metadata": {},
   "source": [
    "T ~ $L^{1/4}$/$r^{1/2}$\n",
    "\n",
    "$T_s = (L/L_{\\odot})^{1/4} (r_{\\odot}/r_{s})^{1/2} $"
   ]
  },
  {
   "cell_type": "code",
   "execution_count": 24,
   "metadata": {},
   "outputs": [
    {
     "name": "stdout",
     "output_type": "stream",
     "text": [
      "T_s = 5.00e+05 K\n"
     ]
    }
   ],
   "source": [
    "T_sun = 5800 #K\n",
    "T_s =  (1e7)**0.25 / 0.70**1.2 * T_sun\n",
    "print (\"T_s = %1.2e K\"%T_s)"
   ]
  },
  {
   "cell_type": "code",
   "execution_count": 25,
   "metadata": {},
   "outputs": [
    {
     "name": "stdout",
     "output_type": "stream",
     "text": [
      "T_s = 3.91e+05 K\n"
     ]
    }
   ],
   "source": [
    "# If the sun only contains fully ionized H\n",
    "T_sun = 5800 #K\n",
    "T_s =  (1e7)**0.25 / 0.86**1.2 * T_sun\n",
    "print (\"T_s = %1.2e K\"%T_s)"
   ]
  },
  {
   "cell_type": "markdown",
   "metadata": {},
   "source": [
    "d. $\\Delta E$ = $\\Delta m c^2$"
   ]
  },
  {
   "cell_type": "code",
   "execution_count": 29,
   "metadata": {},
   "outputs": [
    {
     "name": "stdout",
     "output_type": "stream",
     "text": [
      "The fraction of mass transfer to energy is 6.25e-04\n"
     ]
    }
   ],
   "source": [
    "fraction = (24 - 23.985) /24.\n",
    "print (\"The fraction of mass transfer to energy is %1.2e\"%fraction)"
   ]
  },
  {
   "cell_type": "markdown",
   "metadata": {},
   "source": [
    "e. $t = 0.1 \\times 6.25 \\times 10^{-4} M_s c^2 / L$"
   ]
  },
  {
   "cell_type": "code",
   "execution_count": 85,
   "metadata": {},
   "outputs": [],
   "source": [
    "c = 3.e10 # cgs\n",
    "Msun = 1.989e33 #cgs\n",
    "Lsun = 3.839e33 #cgs\n",
    "from scipy.constants.constants import year\n",
    "t = 0.1 * 6.25e-4 * (10.*Msun) * c*c / (1e7 * Lsun) / (year)"
   ]
  },
  {
   "cell_type": "code",
   "execution_count": 86,
   "metadata": {},
   "outputs": [
    {
     "name": "stdout",
     "output_type": "stream",
     "text": [
      "It takes 9.2e+02 years to burn 10% carbon.\n"
     ]
    }
   ],
   "source": [
    "print (\"It takes {:1.1e} years to burn 10% carbon.\".format(t))"
   ]
  }
 ],
 "metadata": {
  "kernelspec": {
   "display_name": "Python 2",
   "language": "python",
   "name": "python2"
  },
  "language_info": {
   "codemirror_mode": {
    "name": "ipython",
    "version": 2
   },
   "file_extension": ".py",
   "mimetype": "text/x-python",
   "name": "python",
   "nbconvert_exporter": "python",
   "pygments_lexer": "ipython2",
   "version": "2.7.13"
  }
 },
 "nbformat": 4,
 "nbformat_minor": 2
}
