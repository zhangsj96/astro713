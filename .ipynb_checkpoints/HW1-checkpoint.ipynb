{
 "cells": [
  {
   "cell_type": "code",
   "execution_count": 28,
   "metadata": {},
   "outputs": [],
   "source": [
    "import numpy as np\n",
    "from scipy.constants.constants import au, parsec"
   ]
  },
  {
   "cell_type": "markdown",
   "metadata": {},
   "source": [
    "Event Horizon telescope is a radio interferometry to combine all radiao telescopes on earth to resolve the event horizon of the supermassive black hole at the milky way center. What is the baseline length of this telescope to achieve the goal?\n",
    "\n",
    "Assuming a non-rototating BH\n",
    "$R_H = R_S$ = $2GM_{BH}/c^2$ = 3 km  $M_{BH}$ / $M_{\\odot}$\n",
    "\n",
    "\n",
    "The distance to SagA* L is 8 kpc\n",
    "\n",
    "\n",
    "$M_{SagA^*}$ = $4 \\times 10^{6} M_\\odot$\n",
    "\n",
    "\n",
    "$\\theta$ = 1.22 $\\frac{\\lambda}{D}$"
   ]
  },
  {
   "cell_type": "code",
   "execution_count": 29,
   "metadata": {},
   "outputs": [
    {
     "name": "stdout",
     "output_type": "stream",
     "text": [
      "theta in radian: 4.86e-11\n"
     ]
    }
   ],
   "source": [
    "M_BH = 4e6 #Msun\n",
    "R_H  = 3 * M_BH #km\n",
    "L = 8e3 * parsec / 1e3 #km\n",
    "theta_EH = R_H / L # in radian\n",
    "print (\"theta in radian: {:1.2e}\".format(theta_EH))\n",
    "\n",
    "# assume observe at millimeter\n",
    "wavelength = 1e-3 # in meter"
   ]
  },
  {
   "cell_type": "code",
   "execution_count": 30,
   "metadata": {},
   "outputs": [
    {
     "name": "stdout",
     "output_type": "stream",
     "text": [
      "25096.844328\n",
      "1.97 The diameter of the Earth \n"
     ]
    }
   ],
   "source": [
    "D = 1.22 * wavelength / theta_EH\n",
    "print (D/1e3) # in km\n",
    "print (\"{:1.2f} The diameter of the Earth \".format(D/1e3 / (6378*2))) "
   ]
  },
  {
   "cell_type": "markdown",
   "metadata": {},
   "source": [
    "#### If observed at 0.5 mm, the diameter of the interferometer array should be the diameter of the Earth."
   ]
  },
  {
   "cell_type": "markdown",
   "metadata": {},
   "source": [
    "# Problem 2"
   ]
  },
  {
   "cell_type": "markdown",
   "metadata": {},
   "source": [
    "a. Signal = $N_{star}$; $Noise = \\sqrt{ N_{star} + n_{sky} \\pi R^2}$)\n",
    "\n",
    "$S/N = \\frac{N_{Star}}{\\sqrt{ N_{star} + n_{sky} \\pi R^2}}$"
   ]
  },
  {
   "cell_type": "markdown",
   "metadata": {},
   "source": [
    "b. Signal = $10^2 N_{star}$; $Noise = \\sqrt{ 10^2 N_{star} + 10^2n_{sky} \\pi (R/3)^2}$)\n",
    "\n",
    "$S/N = 10 \\frac{N_{Star}}{\\sqrt{ N_{star} + n_{sky} \\pi (R/3)^2}}$"
   ]
  },
  {
   "cell_type": "markdown",
   "metadata": {},
   "source": [
    "Define $N_{star} = Np_{Star}t$; $n_{sky} = np_{sky}t$, where Np and np are constants\n",
    "\n",
    "\n",
    "c. $S/N = \\frac{Np_{Star}t}{\\sqrt{ N_{star}t + np_{sky}t \\pi R^2}}$\n",
    "\n",
    "\n",
    "$S/N =  \\frac{Np_{Star}}{\\sqrt{ N_{star} + np_{sky} \\pi R^2}} \\sqrt{t} \\propto \\sqrt{t}$\n",
    "\n",
    "Regardless of np >> Np or np << Np"
   ]
  },
  {
   "cell_type": "markdown",
   "metadata": {},
   "source": [
    "d. np << Np\n",
    "\n",
    "from a. \n",
    "$(S/N)_{1m} = \\frac{N_{Star}}{\\sqrt{N_{star}}}$\n",
    "\n",
    "and b.\n",
    "$(S/N)_{10m} = 10 \\frac{N_{Star}}{\\sqrt{N_{star}}}$\n",
    "\n",
    "thus, $(S/N)_{10m} = 10 (S/N)_{1m}$\n",
    "\n",
    "$t_{1m} = 10^2 t_{10m} = 100 t_{10m}$\n",
    "\n",
    "d. np >> Np\n",
    "\n",
    "from a.\n",
    "$S/N_{1m} = \\frac{N_{Star}}{\\sqrt{n_{sky} \\pi R^2}}$\n",
    "\n",
    "from b.\n",
    "$S/N_{10m} = 10 \\frac{N_{Star}}{\\sqrt{n_{sky} \\pi (R/3)^2}} = 30 \\frac{N_{Star}}{\\sqrt{n_{sky} \\pi R^2}}$\n",
    "\n",
    "thus,\n",
    "$(S/N)_{10m} = 30 (S/N)_{1m}$\n",
    "\n",
    "$t_{1m} = 30^2 t_{10m} = 900 t_{10m}$"
   ]
  }
 ],
 "metadata": {
  "kernelspec": {
   "display_name": "Python 2",
   "language": "python",
   "name": "python2"
  },
  "language_info": {
   "codemirror_mode": {
    "name": "ipython",
    "version": 2
   },
   "file_extension": ".py",
   "mimetype": "text/x-python",
   "name": "python",
   "nbconvert_exporter": "python",
   "pygments_lexer": "ipython2",
   "version": "2.7.13"
  }
 },
 "nbformat": 4,
 "nbformat_minor": 2
}
