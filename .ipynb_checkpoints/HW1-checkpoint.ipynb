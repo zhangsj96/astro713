{
 "cells": [
  {
   "cell_type": "code",
   "execution_count": 5,
   "metadata": {},
   "outputs": [],
   "source": [
    "import numpy as np\n",
    "from scipy.constants.constants import au, parsec"
   ]
  },
  {
   "cell_type": "markdown",
   "metadata": {},
   "source": [
    "Event Horizon telescope is a radio interferometry to combine all radiao telescopes on earth to resolve the event horizon of the supermassive black hole at the milky way center. What is the baseline length of this telescope to achieve the goal?\n",
    "\n",
    "Assuming a non-rototating BH\n",
    "$R_H = R_S$ = $2GM_{BH}/c^2$ = 3 km  $M_{BH}$ / $M_{\\odot}$\n",
    "\n",
    "\n",
    "The distance to SagA* L is 8 kpc\n",
    "\n",
    "\n",
    "$M_{SagA^*}$ = $4 \\times 10^{6} M_\\odot$\n",
    "\n",
    "\n",
    "$\\theta$ = 1.22 $\\frac{\\lambda}{D}$"
   ]
  },
  {
   "cell_type": "code",
   "execution_count": 23,
   "metadata": {},
   "outputs": [
    {
     "name": "stdout",
     "output_type": "stream",
     "text": [
      "theta in radian: 4.86e-11\n"
     ]
    }
   ],
   "source": [
    "M_BH = 4e6 #Msun\n",
    "R_H  = 3 * M_BH #km\n",
    "L = 8e3 * parsec / 1e3 #km\n",
    "theta_EH = R_H / L # in radian\n",
    "print (\"theta in radian: {:1.2e}\".format(theta_EH))\n",
    "\n",
    "# assume observe at millimeter\n",
    "wavelength = 1e-3 # in meter"
   ]
  },
  {
   "cell_type": "code",
   "execution_count": 24,
   "metadata": {},
   "outputs": [
    {
     "name": "stdout",
     "output_type": "stream",
     "text": [
      "25096.844328\n",
      "1.97 The diameter of the Earth \n"
     ]
    }
   ],
   "source": [
    "D = 1.22 * wavelength / theta_EH\n",
    "print (D/1e3) # in km\n",
    "print (\"{:1.2f} The diameter of the Earth \".format(D/1e3 / (6378*2))) "
   ]
  },
  {
   "cell_type": "markdown",
   "metadata": {},
   "source": [
    "#### If observed at 0.5 mm, the diameter of the interferometer array should be the diameter of the Earth."
   ]
  },
  {
   "cell_type": "code",
   "execution_count": null,
   "metadata": {
    "collapsed": true
   },
   "outputs": [],
   "source": []
  }
 ],
 "metadata": {
  "kernelspec": {
   "display_name": "Python 2",
   "language": "python",
   "name": "python2"
  },
  "language_info": {
   "codemirror_mode": {
    "name": "ipython",
    "version": 2
   },
   "file_extension": ".py",
   "mimetype": "text/x-python",
   "name": "python",
   "nbconvert_exporter": "python",
   "pygments_lexer": "ipython2",
   "version": "2.7.13"
  }
 },
 "nbformat": 4,
 "nbformat_minor": 2
}
