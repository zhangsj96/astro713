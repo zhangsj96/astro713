{
 "cells": [
  {
   "cell_type": "code",
   "execution_count": 1,
   "metadata": {
    "collapsed": true
   },
   "outputs": [],
   "source": [
    "import numpy as np\n",
    "\n",
    "Msun = 1.989e30 # kg\n",
    "from scipy.constants.constants import G"
   ]
  },
  {
   "cell_type": "markdown",
   "metadata": {},
   "source": [
    "# Ch.2 4\n",
    "\n",
    "a. m1/m2 = v2/v1 = 2:1"
   ]
  },
  {
   "cell_type": "code",
   "execution_count": 2,
   "metadata": {},
   "outputs": [
    {
     "name": "stdout",
     "output_type": "stream",
     "text": [
      "M1 = 3.73 Msun\n",
      "M2 = 1.86 Msun\n"
     ]
    }
   ],
   "source": [
    "#b.\n",
    "T = 2. * 24*3600 # period in second\n",
    "v1obsandv2obs = 300e3 #m/s\n",
    "\n",
    "Mtotsini3 = T*v1obsandv2obs**3/(2.*np.pi*G) / Msun\n",
    "M1 = Mtotsini3 / 3.*2.\n",
    "print \"M1 = {} Msun\".format(round(M1,2))\n",
    "M2 = Mtotsini3 / 3.*1.\n",
    "print \"M2 = {} Msun\".format(round(M2,2))"
   ]
  },
  {
   "cell_type": "markdown",
   "metadata": {},
   "source": [
    "c.\n",
    "E($sini^3i$) = 2$\\pi$ $\\int_{0}^{\\pi}$ $sin^3i$ $sini$ di / $4\\pi$\n",
    "                 = $2\\pi \\frac{3}{8\\pi} / (4\\pi)$ = $3\\pi / 16 = 0.59$\n",
    "                 \n",
    "Thus M1 = 6.3 Msun; M2 = 3.1 Msun"
   ]
  },
  {
   "cell_type": "markdown",
   "metadata": {},
   "source": [
    "# Problem in class\n",
    "T~20K at 100 pc, F = 100mJy. observe at 1mm. What's the dust mass assuming 1cm prticle and optically thin"
   ]
  },
  {
   "cell_type": "markdown",
   "metadata": {},
   "source": [
    "Rayleigh-Jean (Since $\\lambda_{max}$ = 0.1 mm >> $\\lambda_{obs}$) &TEQ\n",
    "\n",
    "$S_{\\nu}$ = $B_{\\nu}$ = $2\\nu^2/c^2kT$"
   ]
  },
  {
   "cell_type": "markdown",
   "metadata": {},
   "source": [
    "Optical thin limit: $I_{\\nu} = \\tau S_{\\nu}$"
   ]
  },
  {
   "cell_type": "markdown",
   "metadata": {},
   "source": [
    "$\\kappa_{\\nu} = \\alpha_{\\nu}/\\rho$ = $ns^2/(n4/3\\pi s^3\\rho_g)$ = $3/(4\\pi\\rho_{grain}s)$"
   ]
  },
  {
   "cell_type": "code",
   "execution_count": 3,
   "metadata": {},
   "outputs": [
    {
     "name": "stdout",
     "output_type": "stream",
     "text": [
      "kappa_nu = 0.24 cm^2/g\n"
     ]
    }
   ],
   "source": [
    "# suppose s = 1 cm rho = 1g/cm^2\n",
    "kappa_nu = 3./(4.*np.pi*1*1)\n",
    "print \"kappa_nu = {:1.2f} cm^2/g\".format((kappa_nu))"
   ]
  },
  {
   "cell_type": "code",
   "execution_count": 4,
   "metadata": {
    "collapsed": true
   },
   "outputs": [],
   "source": [
    "c = 3e10 # in cgs\n",
    "k = 1.3807e-16 # in cgs\n",
    "PC = 3.086e+18 # in cgs"
   ]
  },
  {
   "cell_type": "code",
   "execution_count": 5,
   "metadata": {
    "collapsed": true
   },
   "outputs": [],
   "source": [
    "lambda_obs = 0.1 # cm\n",
    "nu = c / lambda_obs\n",
    "T = 20 #K\n",
    "Snu = 2.* (nu/c)**2 * k*T\n",
    "D = 100 * PC\n",
    "F = 100 * 1e-3 * 1e-23 #in cgs"
   ]
  },
  {
   "cell_type": "markdown",
   "metadata": {},
   "source": [
    "$F＝ I_{\\nu}\\frac{a^2}{D^2} = S_{\\nu}\\kappa{\\nu}\\rho a$ $a^2/D^2$ = $S_{\\nu} \\kappa \\frac{M}{D^2}$\n",
    "(Assuming a box a x a x a)"
   ]
  },
  {
   "cell_type": "code",
   "execution_count": 6,
   "metadata": {
    "collapsed": true
   },
   "outputs": [],
   "source": [
    "Mdisk = F * D**2 / (Snu * kappa_nu)"
   ]
  },
  {
   "cell_type": "code",
   "execution_count": 10,
   "metadata": {},
   "outputs": [
    {
     "name": "stdout",
     "output_type": "stream",
     "text": [
      "Disk mass (Dust) = 3.6e-04 Msun\n"
     ]
    }
   ],
   "source": [
    "print \"Disk mass (Dust) = {:1.1e} Msun\".format(Mdisk / (Msun * 1e3))"
   ]
  }
 ],
 "metadata": {
  "kernelspec": {
   "display_name": "Python 2",
   "language": "python",
   "name": "python2"
  },
  "language_info": {
   "codemirror_mode": {
    "name": "ipython",
    "version": 2
   },
   "file_extension": ".py",
   "mimetype": "text/x-python",
   "name": "python",
   "nbconvert_exporter": "python",
   "pygments_lexer": "ipython2",
   "version": "2.7.13"
  }
 },
 "nbformat": 4,
 "nbformat_minor": 2
}
