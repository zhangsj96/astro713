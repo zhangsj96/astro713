{
 "cells": [
  {
   "cell_type": "code",
   "execution_count": 1,
   "metadata": {
    "collapsed": true
   },
   "outputs": [],
   "source": [
    "import numpy as np"
   ]
  },
  {
   "cell_type": "markdown",
   "metadata": {},
   "source": [
    "7.4"
   ]
  },
  {
   "cell_type": "markdown",
   "metadata": {},
   "source": [
    "$V_{disk} = \\pi r^2 \\times 2h$\n",
    "\n",
    "$n = M_{tot}/(V_{disk}M_*)$ = $5\\times 10^{10} M_{\\odot} / (\\pi * 0.5M_{\\odot}(8kpc)^2 \\times 1kpc)$"
   ]
  },
  {
   "cell_type": "markdown",
   "metadata": {},
   "source": [
    "Assume $D_{ol} = D{ls} = d/2$\n",
    "\n",
    "$R_E = d/2 * \\theta_E = d/2 \\times \\sqrt{4GM_*/c^2 / (d/2)}$"
   ]
  },
  {
   "cell_type": "markdown",
   "metadata": {},
   "source": [
    "$\\sigma = \\pi R_E^2 = \\pi 2GM_*/c^2 \\times d$ = $\\pi * 1.5km * 8 kpc$"
   ]
  },
  {
   "cell_type": "code",
   "execution_count": 6,
   "metadata": {},
   "outputs": [
    {
     "data": {
      "text/plain": [
       "2.4303305249513938e-06"
      ]
     },
     "execution_count": 6,
     "metadata": {},
     "output_type": "execute_result"
    }
   ],
   "source": [
    "1e11 / (64e6 *1e3) * 1.5/3.086e+13 * 8e3 * 4e3"
   ]
  },
  {
   "cell_type": "markdown",
   "metadata": {},
   "source": [
    "$P = n\\sigma d/2 = 2.4\\times 10^{-6}$"
   ]
  },
  {
   "cell_type": "markdown",
   "metadata": {},
   "source": [
    "8.3"
   ]
  },
  {
   "cell_type": "markdown",
   "metadata": {},
   "source": [
    "$n\\sigma_T D$ = 0.001\n",
    "\n",
    "and\n",
    "n = 0.15 $\\times M_{tot} / (4/3\\pi R^3) / m_H$ \n",
    "\n",
    "$D = 2\\times ((6\\times 0.15 M_{tot} \\sigma_T) / (m_H 4\\pi 0.001))^{0.5} $\n",
    "\n",
    "$= 6.6 \\times 10^{24}$ cm = 2.1 Mpc"
   ]
  },
  {
   "cell_type": "markdown",
   "metadata": {},
   "source": [
    "$D(distance) = D(diameter)/\\theta = 2.1 Mpc/1^{\\circ} = 120 Mpc$"
   ]
  },
  {
   "cell_type": "markdown",
   "metadata": {},
   "source": [
    "$H_0 = v/D = 8400 km/s / 120Mpc = 70 km/s/Mpc$"
   ]
  },
  {
   "cell_type": "code",
   "execution_count": 3,
   "metadata": {},
   "outputs": [
    {
     "data": {
      "text/plain": [
       "70"
      ]
     },
     "execution_count": 3,
     "metadata": {},
     "output_type": "execute_result"
    }
   ],
   "source": [
    "8400/120"
   ]
  }
 ],
 "metadata": {
  "kernelspec": {
   "display_name": "Python 2",
   "language": "python",
   "name": "python2"
  },
  "language_info": {
   "codemirror_mode": {
    "name": "ipython",
    "version": 2
   },
   "file_extension": ".py",
   "mimetype": "text/x-python",
   "name": "python",
   "nbconvert_exporter": "python",
   "pygments_lexer": "ipython2",
   "version": "2.7.13"
  }
 },
 "nbformat": 4,
 "nbformat_minor": 2
}
