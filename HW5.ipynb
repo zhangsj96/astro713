{
 "cells": [
  {
   "cell_type": "code",
   "execution_count": 2,
   "metadata": {
    "collapsed": true
   },
   "outputs": [],
   "source": [
    "import numpy as np\n",
    "from scipy.constants.constants import year"
   ]
  },
  {
   "cell_type": "markdown",
   "metadata": {},
   "source": [
    "Ch4.5\n",
    "a. $\\frac{dE_{rot}}{dt} \\propto \\omega^6$\n",
    " \n",
    " $E_{rot} = \\frac{1}{2} I\\omega^2 $\n",
    " \n",
    " $I\\omega \\dot{\\omega} \\propto \\omega^6$  \n",
    " \n",
    " $I \\frac{d\\omega}{dt} = C \\omega^5$\n",
    " \n",
    " where $C = I\\dot{\\omega_n}/\\omega_n^5$, $\\omega_n$ and $\\dot{\\omega_n}$ are angular frequency and the change of the angular frequency of the NS now"
   ]
  },
  {
   "cell_type": "markdown",
   "metadata": {},
   "source": [
    "$\\omega(t) = \\sqrt{\\omega_{0}^4 - \\frac{4\\dot{\\omega_n}}{\\omega_n^5}t}$"
   ]
  },
  {
   "cell_type": "markdown",
   "metadata": {},
   "source": [
    "$t = \\frac{\\omega_n^5}{4\\dot{\\omega_n}} (\\omega_0^4 - \\omega_n^4)$\n",
    "where $\\omega_0$ is the initial angular frequency of the NS.\n",
    "\n",
    "b. Plug in $\\omega_i = \\infty$, $\\omega_n = 190/s $, $\\dot{\\omega_n} = -2.4 \\times 10^{-9} s^{-2}$"
   ]
  },
  {
   "cell_type": "code",
   "execution_count": 10,
   "metadata": {
    "collapsed": true
   },
   "outputs": [],
   "source": [
    "t = 190.**5/(4.*-2.4e-9) * (0-190**-4) / year"
   ]
  },
  {
   "cell_type": "code",
   "execution_count": 16,
   "metadata": {},
   "outputs": [
    {
     "name": "stdout",
     "output_type": "stream",
     "text": [
      "The age of the Crab Nebula would be 627.6 years, which is shorter than the obseveration record, so gravitational radiation is not a viable breaking mechanism.\n"
     ]
    }
   ],
   "source": [
    "print (\"The age of the Crab Nebula would be {:1.1f} years, which is shorter than the obseveration record, so gravitational radiation is not a viable breaking mechanism.\".format(t))"
   ]
  },
  {
   "cell_type": "markdown",
   "metadata": {},
   "source": [
    "Ch5.2.a\n",
    "$N(M>8M_\\odot) / N(M>0.4M_\\odot) = \\int_{8M_\\odot}^\\infty \\frac{dN}{dM} dM / (\\int_{0.4M_\\odot}^\\infty \\frac{dN}{dM} dM) = \\int_{8M_\\odot}^\\infty M^{-2.35} dM / (\\int_{0.4M_\\odot}^\\infty M^{-2.35} dM)$ = $(8/0.4)^{-1.35}$"
   ]
  },
  {
   "cell_type": "code",
   "execution_count": 28,
   "metadata": {},
   "outputs": [
    {
     "name": "stdout",
     "output_type": "stream",
     "text": [
      "0.018 of the stars formed with mass larger 8 Msun. 1.8e+09 remnants. 2.5e+09 Mass assuming each remnant is 1.4 Msun\n"
     ]
    }
   ],
   "source": [
    "fraclt8Msun = (8/0.4)**-1.35\n",
    "print (\"{:1.3f} of the stars formed with mass larger 8 Msun. {:1.1e} remnants. {:1.1e} Mass assuming each remnant is 1.4 Msun\"\\\n",
    "       .format(fraclt8Msun, fraclt8Msun * 1e11, fraclt8Msun*1e11*1.4))"
   ]
  },
  {
   "cell_type": "code",
   "execution_count": 36,
   "metadata": {},
   "outputs": [
    {
     "name": "stdout",
     "output_type": "stream",
     "text": [
      "b. Z ~ 0.001752, which is very close to Z_Fe,sun. Since our sun has not burn to Fe yet, this is the evidence that the Sun is formed in enriched ISM.\n"
     ]
    }
   ],
   "source": [
    "print (\"b. Z ~ {:1.6f}, which is very close to Z_Fe,sun. Since our sun has not burn to Fe yet, this is the evidence that the Sun is formed in enriched ISM.\").format(fraclt8Msun * 1e11 * 0.05 / 5e10)"
   ]
  },
  {
   "cell_type": "code",
   "execution_count": 41,
   "metadata": {},
   "outputs": [
    {
     "name": "stdout",
     "output_type": "stream",
     "text": [
      "c. 7.7e+06 pairs, a (p*p * half of the number of all stars / two ask for pairs)\n"
     ]
    }
   ],
   "source": [
    "print (\"c. {:1.1e} pairs, a (p*p * half of the number of all stars / two ask for pairs)\".format(fraclt8Msun**2 * 1e11/2. /2.))"
   ]
  },
  {
   "cell_type": "markdown",
   "metadata": {},
   "source": [
    "d. $GM_{S}^2/r = 2 \\times 1/2 M_{NS}v^2$"
   ]
  },
  {
   "cell_type": "markdown",
   "metadata": {},
   "source": [
    "$r  = G(8M_\\odot)^2/(1.4M_\\odot v^2)$"
   ]
  },
  {
   "cell_type": "code",
   "execution_count": 49,
   "metadata": {
    "collapsed": true
   },
   "outputs": [],
   "source": [
    "from scipy.constants.constants import G, parsec, au"
   ]
  },
  {
   "cell_type": "code",
   "execution_count": 45,
   "metadata": {
    "collapsed": true
   },
   "outputs": [],
   "source": [
    "r =(G*(8*1.989e30)**2) / (1.4*1.989e30*500e3**2)"
   ]
  },
  {
   "cell_type": "code",
   "execution_count": 55,
   "metadata": {},
   "outputs": [
    {
     "name": "stdout",
     "output_type": "stream",
     "text": [
      "The maximum separation is 7.9e-07 pc or 0.2 au\n"
     ]
    }
   ],
   "source": [
    "print (\"The maximum separation is {:1.1e} pc or {:1.1f} au\".format(r / parsec, r/au))"
   ]
  },
  {
   "cell_type": "code",
   "execution_count": 59,
   "metadata": {},
   "outputs": [
    {
     "name": "stdout",
     "output_type": "stream",
     "text": [
      "e. 608 pairs of remnants survived\n"
     ]
    }
   ],
   "source": [
    "print (\"e. {:1.0f} pairs of remnants survived\".format(7.9e-7/0.01 * 7.7e6))"
   ]
  }
 ],
 "metadata": {
  "kernelspec": {
   "display_name": "Python 2",
   "language": "python",
   "name": "python2"
  },
  "language_info": {
   "codemirror_mode": {
    "name": "ipython",
    "version": 2
   },
   "file_extension": ".py",
   "mimetype": "text/x-python",
   "name": "python",
   "nbconvert_exporter": "python",
   "pygments_lexer": "ipython2",
   "version": "2.7.13"
  }
 },
 "nbformat": 4,
 "nbformat_minor": 2
}
