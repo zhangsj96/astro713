{
 "cells": [
  {
   "cell_type": "code",
   "execution_count": 1,
   "metadata": {
    "collapsed": true
   },
   "outputs": [],
   "source": [
    "import numpy as np"
   ]
  },
  {
   "cell_type": "markdown",
   "metadata": {},
   "source": [
    "Ch5. 4.a"
   ]
  },
  {
   "cell_type": "markdown",
   "metadata": {},
   "source": [
    "A charged particle will be significantly deflected by a another charged particle when the eletric static force equals Coloumb's force, which is kT ~ $e^2/r$\n",
    "\n",
    "Thus r ~ $e^2$/kT\n",
    "\n",
    "$\\sigma = \\pi r^2$ ~ $\\frac{\\pi e^4}{k^2T^2}$"
   ]
  },
  {
   "cell_type": "code",
   "execution_count": 5,
   "metadata": {},
   "outputs": [
    {
     "name": "stdout",
     "output_type": "stream",
     "text": [
      "The mean free path is ~ 1.2e+13 cm.\n"
     ]
    }
   ],
   "source": [
    "e = 4.8e-10 # esu\n",
    "k = 1.4e-16 # erg/K\n",
    "T = 1e4     # K\n",
    "sigma = np.pi*e**4/(k**2*T**2)\n",
    "n = 1. #cm^-3\n",
    "l = 1./(n*sigma)\n",
    "print (\"The mean free path is ~ {:1.1e} cm.\".format(l))"
   ]
  },
  {
   "cell_type": "markdown",
   "metadata": {},
   "source": [
    "5.a. from 5.65\n",
    "$$T_1 = T_0 \\frac{2\\gamma(\\gamma -1) \\bar{m}}{(\\gamma +1)^2 k} v_0^2$$\n",
    "and\n",
    "5.58\n",
    "$$\\epsilon = \\frac{1}{\\gamma -1}\\frac{kT}{\\bar{m}}$$\n",
    "\n",
    "$$\\epsilon_1/E_{k,0} = \\frac{4}{(\\gamma +1)^2}$$"
   ]
  },
  {
   "cell_type": "markdown",
   "metadata": {},
   "source": [
    "b. $v_0/ v_1 = \\rho_1/\\rho_0$\n",
    "from 5.61, when $P_1 >> P_0$,\n",
    "$\\rho_1/\\rho_0 = \\frac{\\gamma+1}{\\gamma-1}$\n",
    "Thus, $E_{k,1}/E_{k,0} = v_1^2 / v_0^2 = (\\gamma-1)^2/(\\gamma+1)^2$ = 1/16"
   ]
  },
  {
   "cell_type": "markdown",
   "metadata": {},
   "source": [
    "c. from 5.63\n",
    "$v/v_0 = \\frac{v_0 - v_1}{v_0} = 1-\\frac{v_1}{v_0} = \\frac{2(P_1-P_0)}{(\\gamma+1)P_1+(\\gamma-1)P_0}$\n",
    "When $P_1 >> P_0$, $v/v_0 = 2/(\\gamma+1)$\n",
    "\n",
    "Thus $v^2/v_0^2 = \\frac{4}{(\\gamma+1)^2} = 9/16$"
   ]
  },
  {
   "cell_type": "markdown",
   "metadata": {},
   "source": [
    "6. from 5.93\n",
    "$\\nu_{sync} = 4.2MHz\\ \\gamma^2B = 4keV/h$ \n",
    "\n",
    "from 5.98\n",
    "$t_{cool} = 10yr\\ \\frac{1}{\\gamma B^2}$\n",
    "\n",
    "$t_{cool} = R / (v_0/4) = 0.1pc/(1500km/s) = 65 yr$\n",
    "\n",
    "we get $\\gamma B^2 = 1/6.5$\n",
    "\n",
    "We get $B=163\\mu G$, $\\gamma = 10^8$\n",
    "\n",
    "b. The rim would be twice as thick, since from 5.93, holding B constant, $\\gamma$ decreases by a factor of 2, and\n",
    "from 5.98, $t_{cool}$ increases a factor of two thus the rim would be twice as thick.\n",
    "\n",
    "If the rim width is independent of the energy, $B$ might be not uniform a long the r axis."
   ]
  },
  {
   "cell_type": "code",
   "execution_count": null,
   "metadata": {
    "collapsed": true
   },
   "outputs": [],
   "source": []
  }
 ],
 "metadata": {
  "kernelspec": {
   "display_name": "Python 2",
   "language": "python",
   "name": "python2"
  },
  "language_info": {
   "codemirror_mode": {
    "name": "ipython",
    "version": 2
   },
   "file_extension": ".py",
   "mimetype": "text/x-python",
   "name": "python",
   "nbconvert_exporter": "python",
   "pygments_lexer": "ipython2",
   "version": "2.7.13"
  }
 },
 "nbformat": 4,
 "nbformat_minor": 2
}
